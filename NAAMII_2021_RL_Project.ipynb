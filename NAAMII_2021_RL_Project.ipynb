{
  "nbformat": 4,
  "nbformat_minor": 0,
  "metadata": {
    "colab": {
      "name": "NAAMII 2021 - RL Project.ipynb",
      "provenance": [],
      "include_colab_link": true
    },
    "kernelspec": {
      "name": "python3",
      "display_name": "Python 3"
    },
    "language_info": {
      "name": "python"
    },
    "accelerator": "GPU"
  },
  "cells": [
    {
      "cell_type": "markdown",
      "metadata": {
        "id": "view-in-github",
        "colab_type": "text"
      },
      "source": [
        "<a href=\"https://colab.research.google.com/github/Supriya090/2021-naamii-rl-practical/blob/main/NAAMII_2021_RL_Project.ipynb\" target=\"_parent\"><img src=\"https://colab.research.google.com/assets/colab-badge.svg\" alt=\"Open In Colab\"/></a>"
      ]
    },
    {
      "cell_type": "markdown",
      "metadata": {
        "id": "UBvZlX0bK2qc"
      },
      "source": [
        "# 2021 NAAMII AI Winter School RL Practical\n",
        "Authors: John D. Martin (jmartin8@ualberta.ca), Shruti Mishra, Jordan Hoffmann"
      ]
    },
    {
      "cell_type": "markdown",
      "source": [
        "This assignment covers a number of important reinforcement learning concepts, algorithms, and phenomena. Students will observe the general interaction between a learning system and its environment. In addition, they will implement the classic algorithms SARSA and Q-Learning, for policy evaluation and control. Using experience in a small gridworld domain, students will observe how the presence of stochasticity influences step size sensitivity. The focus shifts in the latter part of the assignment to issues that arise under function approximation with a neural network. Using experience in a domain with continuous states and actions, students will observe how performance of the PPO algorithm changes with different architecture sizes.      \n",
        " \n",
        " "
      ],
      "metadata": {
        "id": "y7KL4v193OYt"
      }
    },
    {
      "cell_type": "markdown",
      "metadata": {
        "id": "YA7LDeADOkns"
      },
      "source": [
        "# Environment defintion"
      ]
    },
    {
      "cell_type": "code",
      "metadata": {
        "id": "d_XinzPNlSYw"
      },
      "source": [
        "import numpy as np\n",
        "import jax.numpy as jnp\n",
        "import jax\n",
        "import functools\n",
        "import matplotlib\n",
        "import matplotlib.cm as cm\n",
        "import matplotlib.pyplot as plt"
      ],
      "execution_count": null,
      "outputs": []
    },
    {
      "cell_type": "code",
      "metadata": {
        "id": "Q7e4fUtYYdY_"
      },
      "source": [
        "#@title 5x5 GridWorld\n",
        "class GridWorld:  \n",
        "  def __init__(self, stochastic=False, seed=0):\n",
        "    self.stochastic = stochastic\n",
        "    self.seed = seed\n",
        "\n",
        "    self.num_rows = 5\n",
        "    self.num_cols = 5\n",
        "    self.num_actions = 4\n",
        "    self.num_states = self.num_cols * self.num_rows\n",
        "\n",
        "    self._rand = np.random.RandomState(self.seed)\n",
        "\n",
        "    self._init_topology()  \n",
        "    self.counts = np.zeros(self.num_states)\n",
        "\n",
        "  def _init_topology(self, initial_grid=None):    \n",
        "    # Assign the adjacency: [W, N, E, S]\n",
        "    self.adjacency_list = np.array(\n",
        "                          [[0,1,5,0],\n",
        "                           [1,2,6,0],\n",
        "                           [2,3,7,1],\n",
        "                           [3,4,8,2],\n",
        "                           [4,4,9,3],\n",
        "                           [0,6,10,5],\n",
        "                           [1,7,11,5],\n",
        "                           [2,8,12,6],\n",
        "                           [3,9,13,7],\n",
        "                           [4,9,14,8],\n",
        "                           [5,11,15,10],\n",
        "                           [6,12,16,10],\n",
        "                           [7,13,17,11],\n",
        "                           [8,14,18,12],\n",
        "                           [9,14,19,18],\n",
        "                           [10,16,20,15],\n",
        "                           [11,17,21,15],\n",
        "                           [12,18,22,16],\n",
        "                           [13,19,23,17],\n",
        "                           [14,19,24,18],\n",
        "                           [15,21,20,20],\n",
        "                           [16,22,21,20],\n",
        "                           [17,23,22,21],\n",
        "                           [18,24,23,22],\n",
        "                           [19,24,24,23]])\n",
        "    \n",
        "  def _get_obs(self):\n",
        "    return jax.nn.one_hot(self.state, self.num_states)\n",
        "\n",
        "  def _get_reward(self):\n",
        "    if self.state == self.bonus_idx:\n",
        "      return 1.\n",
        "    return 0.\n",
        "  \n",
        "  def _get_done(self):\n",
        "    if self.state == self.bonus_idx:\n",
        "      return True\n",
        "    return False\n",
        "\n",
        "  def reset(self):\n",
        "    self.state = 0\n",
        "    self.bonus_idx = self.num_states - 1\n",
        "    self.counts[self.state] += 1\n",
        "    return self._get_obs()\n",
        "\n",
        "  def step(self, action):\n",
        "    if self.stochastic:\n",
        "      if rs.rand() < 0.1:\n",
        "        action = rs.choice(self.num_actions)\n",
        "    self.state = self.adjacency_list[self.state, action]\n",
        "    self.counts[self.state] += 1\n",
        "    return self._get_obs(), self._get_reward(), self._get_done()\n",
        "\n",
        "  def get_xy(self, state):\n",
        "    state = state % (self.num_cols * self.num_rows)\n",
        "    x = state // self.num_cols\n",
        "    y = state % self.num_rows\n",
        "    return x, y\n",
        "  \n",
        "  def get_state_number(self, x, y):\n",
        "    return x * self.num_cols + y\n",
        "      \n",
        "  def plot(self):\n",
        "    fig, ax = plt.subplots()\n",
        "    grid = np.reshape(self.counts, (self.num_rows, self.num_cols))\n",
        "    for i in range(self.num_rows):\n",
        "      for j in range(self.num_cols):\n",
        "        #  ax.text(i+.5, j+.5, str(grid[i,j]),va='center', ha='center')\n",
        "        ax.text(i+.5, j+.5, str(self.get_state_number(i,j)),va='center', ha='center')\n",
        "    # ax.imshow(np.flip(grid.transpose(),0),\n",
        "    #           extent=[0, self.num_rows, 0, self.num_cols])\n",
        "    state_numbers = np.reshape(np.arange(self.num_states), (self.num_rows, self.num_cols))\n",
        "    ax.imshow(state_numbers,\n",
        "              extent=[0, self.num_rows, 0, self.num_cols])\n",
        "    i, j = self.get_xy(self.state)\n",
        "    #ax.text(i+.5, j+.5, 'x', )\n",
        "\n",
        "    i, j = self.get_xy(self.bonus_idx)\n",
        "    #ax.text(i+.5, j+.5, '+1', va='center', ha='center')\n",
        "\n",
        "    ax.grid(which='major', linestyle='--')\n"
      ],
      "execution_count": null,
      "outputs": []
    },
    {
      "cell_type": "code",
      "metadata": {
        "colab": {
          "base_uri": "https://localhost:8080/",
          "height": 269
        },
        "id": "fJfY5rbVxvom",
        "outputId": "219ff223-41ad-4281-f7ba-da0edfa1cb69"
      },
      "source": [
        "e = GridWorld()\n",
        "e.reset()\n",
        "e.plot()"
      ],
      "execution_count": null,
      "outputs": [
        {
          "output_type": "display_data",
          "data": {
            "image/png": "[encoded data removed]",
            "text/plain": [
              "<Figure size 432x288 with 1 Axes>"
            ]
          },
          "metadata": {
            "needs_background": "light"
          }
        }
      ]
    },
    {
      "cell_type": "code",
      "metadata": {
        "id": "AcDlDYnZVtSk"
      },
      "source": [
        "def compute_returns(rewards, discount, bin_size=1):\n",
        "    assert len(rewards) >= bin_size\n",
        "    discounts = [discount**t for t in range(bin_size)]    \n",
        "    return np.array([np.dot(rewards[t+1:t+1+bin_size], discounts)\n",
        "                     for t in range(len(rewards)-bin_size)])\n",
        "\n",
        "\n",
        "def bin_vector(x, num_bins):\n",
        "  j = int(len(x) / num_bins)\n",
        "  return np.array([np.sum(x[i * j:(i + 1) * j]) for i in range(num_bins)])"
      ],
      "execution_count": null,
      "outputs": []
    },
    {
      "cell_type": "markdown",
      "metadata": {
        "id": "9SM8lZ7KVLhV"
      },
      "source": [
        "# Part 1. Decision policies\n",
        "\n",
        "In reinforcement learning a policy determines how the agent behaves. Mathematically, a policy is a mapping from states to actions $\\pi : \\mathcal{S} \\rightarrow \\mathcal{A}$. This mapping can be either deterministic or stochastic. In many cases, and particularly for the algorithms we consider, the policy is defined in terms of the value function. To familarize yourself with these ideas, you will implement several well-known decision policies. \n",
        "\n",
        "1. A uniform random policy: $a \\sim \\text{Uniform}(\\mathcal{A})$. \n",
        "2. A greedy decision policy that breaks ties unifomly at random. Do this for Gaussian-random values. \n",
        "3. An epsilon-greedy policy that takes random actions $\\varepsilon$ percent of the time. Fix $\\varepsilon=0.1$ for this exercise.\n",
        "\n",
        "After many steps of experience, the distribution of state visitation counts will be proportional to the stationary distribution of the MDP. For each policy visualize the distribution of state visitation counts using the environment attribute env.counts. How do the three policies compare?\n",
        "\n",
        "For more information on polices and value functions see section 3.5 of Sutton and Barto. Within the same test, the greedy and epsilon-greedy policies are discussed in section 2.2. "
      ]
    },
    {
      "cell_type": "markdown",
      "source": [
        " ## Exercise: Implement decision policies.\n",
        "With the provided function signatures, implement the three decision policies mentioned above.  "
      ],
      "metadata": {
        "id": "t5m2gV2LIhpc"
      }
    },
    {
      "cell_type": "code",
      "metadata": {
        "id": "W_hripYUVpOs"
      },
      "source": [
        "#@title Policies (Exercise)\n",
        "def random_action(actions, rs):\n",
        "  \"\"\"\n",
        "    actions: an np array of action indices.\n",
        "    rs: the np random state.\n",
        "  \"\"\" \n",
        "  # YOUR CODE GOES HERE.\n",
        "  return rs.choice(actions)\n",
        "\n",
        "\n",
        "def greedy_action(w, x, rs):\n",
        "  \"\"\"\n",
        "    w: a (num_states, num_actions) jnp matrix of action values.\n",
        "    x: observation vector.\n",
        "    rs: the np random state.\n",
        "  \"\"\" \n",
        "  # YOUR CODE GOES HERE.\n",
        "  q = jnp.matmul(x,w)\n",
        "  a = jnp.flatnonzero(q == jnp.max(q))\n",
        "  return a[0]\n",
        "\n",
        "\n",
        "def epsilon_greedy(w, x, rs, epsilon=0.1):\n",
        "  \"\"\"\n",
        "    w: a (num_states, num_actions) jnp matrix of action values.\n",
        "    x: observation vector.\n",
        "    rs: the np random state.\n",
        "    epsilon: the probability of taking a random action.\n",
        "  \"\"\" \n",
        "  # YOUR CODE GOES HERE.\n",
        "  if rs.rand() < epsilon:\n",
        "    return rs.choice(jnp.shape(w)[-1])\n",
        "  return greedy_action(w,x,rs)"
      ],
      "execution_count": null,
      "outputs": []
    },
    {
      "cell_type": "code",
      "source": [
        "#@title Random policy (Exercise). \n",
        "env = GridWorld()\n",
        "last_x_w = env.reset()\n",
        "\n",
        "rs = np.random.RandomState(0)\n",
        "actions = np.array([0,1,2,3])\n",
        "for _ in range(1000):\n",
        "  last_action = random_action(actions, rs)\n",
        "  x_w, reward, done = env.step(last_action) \n",
        "\n",
        "  if done:\n",
        "    last_x_w = env.reset()\n",
        "  else:\n",
        "    last_x_w = x_w\n",
        "random_state_visitation = np.copy(env.counts)\n",
        "print(random_state_visitation)"
      ],
      "metadata": {
        "id": "pDW2del1Q5lt",
        "colab": {
          "base_uri": "https://localhost:8080/"
        },
        "outputId": "7cec4915-8101-4be8-c368-cda182310774"
      },
      "execution_count": null,
      "outputs": [
        {
          "output_type": "stream",
          "name": "stdout",
          "text": [
            "[111.  75.  55.  43.  39.  62.  50.  37.  43.  38.  50.  41.  26.  21.\n",
            "  17.  48.  34.  26.  32.  28.  48.  40.  23.  14.  10.]\n"
          ]
        }
      ]
    },
    {
      "cell_type": "code",
      "source": [
        "#@title Greedy policy with random values (Exercise).\n",
        "env = GridWorld()\n",
        "last_x_w = env.reset()\n",
        "\n",
        "rs = np.random.RandomState(0)\n",
        "random_values = rs.rand(25,4)\n",
        "print(random_values)\n",
        "for _ in range(1000):\n",
        "  last_action = greedy_action(random_values, last_x_w, rs)\n",
        "  x_w, reward, done = env.step(last_action) \n",
        "\n",
        "  if done:\n",
        "    last_x_w = env.reset()\n",
        "  else:\n",
        "    last_x_w = x_w\n",
        "greedy_state_visitation = np.copy(env.counts)\n",
        "print(greedy_state_visitation)"
      ],
      "metadata": {
        "id": "0g7HJVfzRz3S",
        "colab": {
          "base_uri": "https://localhost:8080/"
        },
        "outputId": "fbc3a9b7-c47e-40fc-ad1d-3cbd5acc97bc"
      },
      "execution_count": null,
      "outputs": [
        {
          "output_type": "stream",
          "name": "stdout",
          "text": [
            "[[0.5488135  0.71518937 0.60276338 0.54488318]\n",
            " [0.4236548  0.64589411 0.43758721 0.891773  ]\n",
            " [0.96366276 0.38344152 0.79172504 0.52889492]\n",
            " [0.56804456 0.92559664 0.07103606 0.0871293 ]\n",
            " [0.0202184  0.83261985 0.77815675 0.87001215]\n",
            " [0.97861834 0.79915856 0.46147936 0.78052918]\n",
            " [0.11827443 0.63992102 0.14335329 0.94466892]\n",
            " [0.52184832 0.41466194 0.26455561 0.77423369]\n",
            " [0.45615033 0.56843395 0.0187898  0.6176355 ]\n",
            " [0.61209572 0.616934   0.94374808 0.6818203 ]\n",
            " [0.3595079  0.43703195 0.6976312  0.06022547]\n",
            " [0.66676672 0.67063787 0.21038256 0.1289263 ]\n",
            " [0.31542835 0.36371077 0.57019677 0.43860151]\n",
            " [0.98837384 0.10204481 0.20887676 0.16130952]\n",
            " [0.65310833 0.2532916  0.46631077 0.24442559]\n",
            " [0.15896958 0.11037514 0.65632959 0.13818295]\n",
            " [0.19658236 0.36872517 0.82099323 0.09710128]\n",
            " [0.83794491 0.09609841 0.97645947 0.4686512 ]\n",
            " [0.97676109 0.60484552 0.73926358 0.03918779]\n",
            " [0.28280696 0.12019656 0.2961402  0.11872772]\n",
            " [0.31798318 0.41426299 0.0641475  0.69247212]\n",
            " [0.56660145 0.26538949 0.52324805 0.09394051]\n",
            " [0.5759465  0.9292962  0.31856895 0.66741038]\n",
            " [0.13179786 0.7163272  0.28940609 0.18319136]\n",
            " [0.58651293 0.02010755 0.82894003 0.00469548]]\n",
            "[501. 500.   0.   0.   0.   0.   0.   0.   0.   0.   0.   0.   0.   0.\n",
            "   0.   0.   0.   0.   0.   0.   0.   0.   0.   0.   0.]\n"
          ]
        }
      ]
    },
    {
      "cell_type": "code",
      "source": [
        "#@title $\\varepsilon$-Greedy policy with random values (Exercise).\n",
        "env = GridWorld()\n",
        "last_x_w = env.reset()\n",
        "\n",
        "rs = np.random.RandomState(0)\n",
        "random_values = rs.rand(25,4)\n",
        "for _ in range(1000):\n",
        "  last_action = epsilon_greedy(random_values, last_x_w, rs)\n",
        "  x_w, reward, done = env.step(last_action) \n",
        "\n",
        "  if done:\n",
        "    last_x_w = env.reset()\n",
        "  else:\n",
        "    last_x_w = x_w\n",
        "epsilon_greedy_state_visitation = np.copy(env.counts)\n",
        "print(epsilon_greedy_state_visitation)"
      ],
      "metadata": {
        "id": "ICZ8qB-MSAV8",
        "colab": {
          "base_uri": "https://localhost:8080/"
        },
        "outputId": "590ad7f6-bf14-46e6-d995-1c341959cbbb"
      },
      "execution_count": null,
      "outputs": [
        {
          "output_type": "stream",
          "name": "stdout",
          "text": [
            "[366. 350. 114.  19.  17.  28.  18.   8.   3.  14.   1.   0.   0.   1.\n",
            "  14.   1.  16.   1.   1.   0.  11.  16.   1.   1.   1.]\n"
          ]
        }
      ]
    },
    {
      "cell_type": "markdown",
      "source": [
        "Plot the results with the code below."
      ],
      "metadata": {
        "id": "KB3W-w_5SSdT"
      }
    },
    {
      "cell_type": "code",
      "metadata": {
        "colab": {
          "base_uri": "https://localhost:8080/",
          "height": 282
        },
        "id": "xxEgTCG9SCJJ",
        "outputId": "5d6c5d37-f39d-42f5-cec8-6f7699acf470"
      },
      "source": [
        "plt.bar(np.arange(env.num_states), greedy_state_visitation, label='Greedy')\n",
        "plt.bar(np.arange(env.num_states), random_state_visitation, label='Random')\n",
        "plt.bar(np.arange(env.num_states), epsilon_greedy_state_visitation, label=r'$\\varepsilon$-Greedy')\n",
        "plt.legend()"
      ],
      "execution_count": null,
      "outputs": [
        {
          "output_type": "execute_result",
          "data": {
            "text/plain": [
              "<matplotlib.legend.Legend at 0x7faa28f60b90>"
            ]
          },
          "metadata": {},
          "execution_count": 9
        },
        {
          "output_type": "display_data",
          "data": {
            "image/png": "[encoded data removed]",
            "text/plain": [
              "<Figure size 432x288 with 1 Axes>"
            ]
          },
          "metadata": {
            "needs_background": "light"
          }
        }
      ]
    },
    {
      "cell_type": "markdown",
      "source": [
        "## Observations (Exercise)\n",
        "WRITE YOUR OBSERVATIONS HERE."
      ],
      "metadata": {
        "id": "4gy63xclSYLQ"
      }
    },
    {
      "cell_type": "markdown",
      "metadata": {
        "id": "kjXZwmsSWXLm"
      },
      "source": [
        "# Part 2. Policy Evaluation (Prediction)\n",
        "\n",
        "When performing policy evalution, a system learns to predict the sum of future rewards that occur while following a policy $\\pi$. If the experience used to learn the prediction comes from the policy itself, then we say the evaluation is on-policy. In this component you will implement Sarsa, a learning algorithm for on-policy evaluation. \n",
        "\n",
        "The Sarsa algorithm starts with an arbitrary estimate of action values $q_\\pi(s,a)$ for all $s,a$, then it uses experience gathered under $\\pi$ to incrementally improve the action-value estimates. The update rule follows the method of temporal differences at each transition $s,a\\rightarrow r,s',a'$, where $a,a'\\sim \\pi$. See section 6.4 of Sutton and Barto for more information.\n",
        "$$q_\\pi(s,a) \\gets q_\\pi(s,a) + \\alpha[r +\\gamma q_\\pi(s',a') - q_\\pi(s,a)].$$\n"
      ]
    },
    {
      "cell_type": "code",
      "metadata": {
        "id": "as4Z29cyJp4I",
        "cellView": "form"
      },
      "source": [
        "#@title Visualization code\n",
        "def plot_colored_value_cell(x, y, q, ax, norm):\n",
        "  scale = 0.2\n",
        "  size = scale * 1\n",
        "  cmap = cm.get_cmap('jet')#cm.Jet\n",
        "  v = np.max(q)\n",
        "  color=cmap(norm(v)) \n",
        "  head_width = .05 * scale\n",
        "  head_length = .05 * scale\n",
        "  x = scale * x\n",
        "  y = scale * y\n",
        "\n",
        "  rect = plt.Rectangle([x, y], size, size,\n",
        "                      facecolor=color, \n",
        "                      edgecolor='black',\n",
        "                      clip_on=False)\n",
        "  ax.add_patch(rect)\n",
        "\n",
        "  ax.text(x+size/2, y+size/2, '{value:.2f}'.format(value=v))\n",
        "\n",
        "  return ax\n",
        "\n",
        "def plot_arrow_value_cell(x, y, q, ax):\n",
        "  scale = 0.2\n",
        "  size = scale * 1\n",
        "\n",
        "  color='white'\n",
        "  head_width = .05 * scale\n",
        "  head_length = .05 * scale\n",
        "  q_norm = scale * .5 * q / np.sqrt(np.sum(q**2)) \n",
        "  x = scale * x\n",
        "  y = scale * y\n",
        "\n",
        "  rect = plt.Rectangle([x, y], size, size,\n",
        "                      facecolor=color, \n",
        "                      edgecolor='black',\n",
        "                      clip_on=False)\n",
        "  ax.add_patch(rect)\n",
        "  x = x + .5 * scale\n",
        "  y = y + .5 * scale\n",
        "\n",
        "  # left\n",
        "  dx = q_norm[0]\n",
        "  ax.arrow(x, y, -dx, 0, \n",
        "            length_includes_head=True,\n",
        "            head_width=head_width,\n",
        "            head_length=head_length,\n",
        "            color='black')\n",
        "  # up\n",
        "  dy = q_norm[1]\n",
        "  ax.arrow(x, y, 0, dy, \n",
        "            length_includes_head=True,\n",
        "            head_width=head_width,\n",
        "            head_length=head_length,\n",
        "            color='black')\n",
        "  # right\n",
        "  dx = q_norm[2]\n",
        "  ax.arrow(x, y, dx, 0, \n",
        "            length_includes_head=True,\n",
        "            head_width=head_width,\n",
        "            head_length=head_length,\n",
        "            color='black')\n",
        "  #down\n",
        "  dy = q_norm[3]\n",
        "  ax.arrow(x, y, 0, -dy, \n",
        "            length_includes_head=True,\n",
        "            head_width=head_width,\n",
        "            head_length=head_length,\n",
        "            color='black')\n",
        "  return ax\n",
        "\n",
        "def plot_greedy_cell(x, y, q, ax):\n",
        "  scale = 0.2\n",
        "  size = scale * 1\n",
        "\n",
        "  color='white'\n",
        "  head_width = .05 * scale\n",
        "  head_length = .05 * scale\n",
        "  q_norm = scale * .5 * q / np.sqrt(np.sum(q**2)) \n",
        "  i_greedy = np.argmax(q_norm)\n",
        "\n",
        "  x = scale * x\n",
        "  y = scale * y\n",
        "\n",
        "  rect = plt.Rectangle([x, y], size, size,\n",
        "                      facecolor=color, \n",
        "                      edgecolor='black',\n",
        "                      clip_on=False)\n",
        "  ax.add_patch(rect)\n",
        "  x = x + .5 * scale\n",
        "  y = y + .5 * scale\n",
        "\n",
        "  if i_greedy == 0:\n",
        "    # left\n",
        "    dx = q_norm[0]\n",
        "    ax.arrow(x, y, -dx, 0, \n",
        "              length_includes_head=True,\n",
        "              head_width=head_width,\n",
        "              head_length=head_length,\n",
        "              color='black')\n",
        "  elif i_greedy == 1:\n",
        "    # up\n",
        "    dy = q_norm[1]\n",
        "    ax.arrow(x, y, 0, dy, \n",
        "              length_includes_head=True,\n",
        "              head_width=head_width,\n",
        "              head_length=head_length,\n",
        "              color='black')\n",
        "  elif i_greedy == 2:\n",
        "    # right\n",
        "    dx = q_norm[2]\n",
        "    ax.arrow(x, y, dx, 0, \n",
        "              length_includes_head=True,\n",
        "              head_width=head_width,\n",
        "              head_length=head_length,\n",
        "              color='black')\n",
        "  elif i_greedy == 3:\n",
        "    #down\n",
        "    dy = q_norm[3]\n",
        "    ax.arrow(x, y, 0, -dy, \n",
        "              length_includes_head=True,\n",
        "              head_width=head_width,\n",
        "              head_length=head_length,\n",
        "              color='black')\n",
        "  return ax\n",
        "\n",
        "\n",
        "def plot_qvals(env, agent, arrow_plot=False):\n",
        "  qvalues = np.zeros((env.num_states, env.num_actions))\n",
        "  for s in range(env.num_states):\n",
        "    state = jax.nn.one_hot(s, env.num_states)\n",
        "    for a in range(env.num_actions):\n",
        "      qvalues[s, a] = agent.value(state, a)\n",
        "  \n",
        "  vmin, vmax = np.min(qvalues), np.max(qvalues)\n",
        "  norm = matplotlib.colors.Normalize(vmin=vmin, vmax=vmax, clip=True)\n",
        "\n",
        "  fig, ax = plt.subplots(figsize=(5,5))\n",
        "  for i in range(25):\n",
        "    x, y = env.get_xy(i)\n",
        "    if arrow_plot:\n",
        "      plot_arrow_value_cell(x, y, qvalues[i], ax)\n",
        "    else:\n",
        "      plot_colored_value_cell(x, y, qvalues[i], ax, norm)\n",
        "  ax.set_axis_off()\n",
        "  plt.plot()\n",
        "\n",
        "\n",
        "def plot_greedy_policy(env, agent):\n",
        "  qvalues = np.zeros((env.num_states, env.num_actions))\n",
        "  for s in range(env.num_states):\n",
        "    state = jax.nn.one_hot(s, env.num_states)\n",
        "    for a in range(env.num_actions):\n",
        "      qvalues[s, a] = agent.value(state, a)\n",
        "\n",
        "  fig, ax = plt.subplots(figsize=(5,5))\n",
        "  for i in range(25):\n",
        "    x, y = env.get_xy(i)\n",
        "    plot_greedy_cell(x, y, qvalues[i], ax)\n",
        "  \n",
        "  ax.set_axis_off()\n",
        "  plt.plot()\n"
      ],
      "execution_count": null,
      "outputs": []
    },
    {
      "cell_type": "markdown",
      "source": [
        " ## Exercise: Sarsa Implementation.\n",
        "\n",
        " Implement the Sarsa algorithm."
      ],
      "metadata": {
        "id": "lt1fmHpcKVMd"
      }
    },
    {
      "cell_type": "code",
      "source": [
        "#@title Sarsa (Exercise)\n",
        "class Sarsa(object):\n",
        "  \"\"\"Sarsa.\"\"\"\n",
        "  def __init__(self,\n",
        "               first_x_w,\n",
        "               num_actions,\n",
        "               discount=0.9,\n",
        "               alpha_w=1.):\n",
        "    self.last_x_w = first_x_w\n",
        "    self.num_actions = num_actions\n",
        "    self.w_q = jnp.zeros((len(self.last_x_w), self.num_actions))\n",
        "    self.discount = discount\n",
        "    self.alpha_w= alpha_w\n",
        "\n",
        "  def update(self, last_x_w, last_a, reward, x_w, a, done):\n",
        "    # YOUR CODE GOES HERE.\n",
        "    if not done:\n",
        "      self.w_q[np.argmax(last_x_w), last_a] = self.w_q[np.argmax(last_x_w), last_a] + self.alpha_w(reward + self.discount*self.w_q[np.argmax(x_w), a] - self.w_q[np.argmax(last_x_w), last_a]) \n",
        "\n",
        "    if done:\n",
        "      self.w_q[np.argmax(last_x_w), last_a] = self.w_q[np.argmax(last_x_w), last_a]\n",
        "  def value(self, x_w, action):\n",
        "    # YOUR CODE GOES HERE.\n",
        "    return "
      ],
      "metadata": {
        "id": "POTdnkcuSpqE",
        "colab": {
          "base_uri": "https://localhost:8080/",
          "height": 131
        },
        "outputId": "31a030a0-07ca-4ada-f023-918db72762e3"
      },
      "execution_count": null,
      "outputs": [
        {
          "output_type": "error",
          "ename": "IndentationError",
          "evalue": "ignored",
          "traceback": [
            "\u001b[0;36m  File \u001b[0;32m\"<ipython-input-11-05b90e5c4def>\"\u001b[0;36m, line \u001b[0;32m18\u001b[0m\n\u001b[0;31m    def value(self, x_w, action):\u001b[0m\n\u001b[0m      ^\u001b[0m\n\u001b[0;31mIndentationError\u001b[0m\u001b[0;31m:\u001b[0m expected an indented block\n"
          ]
        }
      ]
    },
    {
      "cell_type": "markdown",
      "metadata": {
        "id": "58OXLcEOuRxw"
      },
      "source": [
        "## Exercise: Policy evaluation with Sarsa.\n",
        "\n",
        "Use your implementation of Sarsa to evaluate the actions of a random policy."
      ]
    },
    {
      "cell_type": "code",
      "metadata": {
        "id": "dCzbjwWWaXVf"
      },
      "source": [
        "env = GridWorld()\n",
        "last_x_w = env.reset()\n",
        "agent = Sarsa(first_x_w=last_x_w, num_actions=env.num_actions)\n",
        "\n",
        "rs = np.random.RandomState(0)\n",
        "actions = np.arange(env.num_actions)\n",
        "steps = []\n",
        "ep_steps = 0.\n",
        "for t in range(1000):\n",
        "  last_action = random_action(actions, rs)\n",
        "  x_w, reward, done = env.step(last_action) \n",
        "  action = random_action(actions, rs)\n",
        "  agent.update(last_x_w, last_action, reward, x_w, action, done)\n",
        "\n",
        "  ep_steps += 1\n",
        "  if done:\n",
        "    last_x_w = env.reset()\n",
        "    steps.append(ep_steps)\n",
        "    ep_steps = 0.\n",
        "  else:\n",
        "    last_x_w = x_w"
      ],
      "execution_count": null,
      "outputs": []
    },
    {
      "cell_type": "code",
      "metadata": {
        "id": "tAPvpX1KvvzO"
      },
      "source": [
        "plot_qvals(env, agent)"
      ],
      "execution_count": null,
      "outputs": []
    },
    {
      "cell_type": "markdown",
      "metadata": {
        "id": "HvwlEaxLuWg6"
      },
      "source": [
        "## Exercise: On-policy control with Sarsa.\n",
        "\n",
        "Sarsa can also be used as an on-policy control algorithm. One case in which this occurs is under the $\\varepsilon$-greedy policy. \n",
        "\n",
        "At any given time, the learner selects the best action according to the current estimate of the action-value function, with probability $1-\\varepsilon$. Then $\\varepsilon$ percent of the time the learner acts randomly. \n",
        "\n",
        "Throughout this process, the values that Sarsa learns become increasingly accurate. This causes the policy that it evaluates to change. Eventually, the process stabilizes (at least in this domain) when the values reflect the true greedy actions. These will be optimal for achieving high return.\n",
        "\n",
        "Use your implementation of Sarsa to evaluate the actions of an epsilon-greedy policy. \n"
      ]
    },
    {
      "cell_type": "code",
      "metadata": {
        "id": "T4TtMxmZuV9x"
      },
      "source": [
        "env = GridWorld()\n",
        "last_x_w = env.reset()\n",
        "agent = Sarsa(first_x_w=last_x_w, num_actions=env.num_actions)\n",
        "\n",
        "rs = np.random.RandomState(0)\n",
        "steps = []\n",
        "ep_steps = 0.\n",
        "for t in range(10000):\n",
        "  last_action = epsilon_greedy(agent.w_q, last_x_w, rs)\n",
        "  x_w, reward, done = env.step(last_action) \n",
        "  action = epsilon_greedy(agent.w_q, x_w, rs)\n",
        "  agent.update(last_x_w, last_action, reward, x_w, action, done)\n",
        "\n",
        "  ep_steps += 1\n",
        "  if done:\n",
        "    last_x_w = env.reset()\n",
        "    steps.append(ep_steps)\n",
        "    ep_steps = 0.\n",
        "  else:\n",
        "    last_x_w = x_w"
      ],
      "execution_count": null,
      "outputs": []
    },
    {
      "cell_type": "code",
      "metadata": {
        "id": "1cii5_efbPLq"
      },
      "source": [
        "plot_qvals(env, agent)"
      ],
      "execution_count": null,
      "outputs": []
    },
    {
      "cell_type": "markdown",
      "metadata": {
        "id": "0h1YnWvoaCI_"
      },
      "source": [
        "# Part 3. Policy Iteration (Control)\n",
        "\n",
        "Reinforcement learning is renowed for having general-purpose algorithms that can learn useful decision policies without access to a transition model. Algorithms of this type sample transitions by directly interacting with an environment: taking actions and observing the outcomes. With this feedback, a learning system can iteratively evaluate and improve its policy, so that in the long term, its actions lead to the maximum amount of future reward.\n",
        "\n",
        "Here we focus on an off-policy algorithm for control. Off-policy algorithms use experience gathered under a behavior policy, $\\pi$, to update a target policy $\\pi^*$. The Q-Learning algorithm (Watkins 1989) considers the greedy target policy and applies the method of temporal differences to update its action-value estimates. The update rule is given below.\n",
        "\n",
        "\n",
        "$$q(s,a) \\gets q(s,a) + \\alpha[r+\\gamma \\max_{a'\\in\\mathcal{A}} q(s',a') - q(s,a)].$$\n",
        "\n"
      ]
    },
    {
      "cell_type": "markdown",
      "metadata": {
        "id": "ICY4mlbVPgW8"
      },
      "source": [
        " ## Exercise: Q-Learning implementation\n",
        "\n",
        "Implement Q-learning"
      ]
    },
    {
      "cell_type": "code",
      "source": [
        "#@title Q-Learning (Exercise)\n",
        "class QLearning(object):\n",
        "  \"\"\"QLearning.\"\"\"\n",
        "  def __init__(self,\n",
        "               first_x_w,\n",
        "               num_actions,\n",
        "               discount=0.9,\n",
        "               alpha_w=1.):\n",
        "    self.last_x_w = first_x_w\n",
        "    self.num_actions = num_actions\n",
        "    self.w_q = jnp.zeros((len(self.last_x_w), self.num_actions))\n",
        "    self.discount = discount\n",
        "    self.alpha_w= alpha_w\n",
        "\n",
        "  def update(self, x_w, last_a, reward, done):\n",
        "    # YOUR CODE GOES HERE.\n",
        "\n",
        "  def value(self, x_w, action):\n",
        "    # YOUR CODE GOES HERE.\n",
        "    return "
      ],
      "metadata": {
        "cellView": "form",
        "id": "mDYi3zD2UMH9"
      },
      "execution_count": null,
      "outputs": []
    },
    {
      "cell_type": "code",
      "metadata": {
        "id": "kqRdIoinVYTd"
      },
      "source": [
        "env = GridWorld()\n",
        "last_x_w = env.reset()\n",
        "agent = QLearning(first_x_w=last_x_w, num_actions=env.num_actions)\n",
        "\n",
        "rs = np.random.RandomState(0)\n",
        "steps = []\n",
        "ep_steps = 0.\n",
        "for t in range(1000):\n",
        "  last_action = epsilon_greedy(agent.w_q, last_x_w, rs)\n",
        "  x_w, reward, done = env.step(last_action) \n",
        "  agent.update(last_x_w, last_action, reward, x_w, done)\n",
        "\n",
        "  ep_steps += 1\n",
        "  if done:\n",
        "    last_x_w = env.reset()\n",
        "    steps.append(ep_steps)\n",
        "    ep_steps = 0.\n",
        "  else:\n",
        "    last_x_w = x_w"
      ],
      "execution_count": null,
      "outputs": []
    },
    {
      "cell_type": "code",
      "metadata": {
        "id": "ChnL7G1TwUKZ"
      },
      "source": [
        "plot_qvals(env, agent)"
      ],
      "execution_count": null,
      "outputs": []
    },
    {
      "cell_type": "code",
      "metadata": {
        "id": "V2tOT6PMDOS7"
      },
      "source": [
        "plot_greedy_policy(env, agent)"
      ],
      "execution_count": null,
      "outputs": []
    },
    {
      "cell_type": "code",
      "metadata": {
        "id": "bqOl-Q3Eqgfx"
      },
      "source": [
        "fig, ax = plt.subplots(figsize=(10,5))\n",
        "ax.plot(np.arange(len(steps)), steps, label='Q-Learning')\n",
        "ax.hlines(y=8, xmin=0, xmax=len(steps), label='Shortest path')\n",
        "ax.set_xlabel('Episode')\n",
        "ax.set_ylabel('Steps to Goal')\n",
        "ax.legend()"
      ],
      "execution_count": null,
      "outputs": []
    },
    {
      "cell_type": "markdown",
      "metadata": {
        "id": "k4MbWWQTJoCk"
      },
      "source": [
        " ## Exercise: Exploration parameter sensitivity.\n",
        "\n",
        "The parameter $\\varepsilon$ is said to control the amount of exploration the learning system experiences. In this context, $\\varepsilon$ specifically controls the probability of taking an action uniformly at random. \n",
        "\n",
        "In this exercise, we would like to tune the exploration parameter to acheive better learning performance. Choose an aggregate performance metric, such as the average number of steps to the goal, then evaluate the metric for several different values of $\\varepsilon$, e.g. $\\varepsilon \\in \\{0, 0.1, 0.2, 0.3, \\cdots, 1\\}$. What value of $\\varepsilon$ achieved the best aggregate performance? Construct a sensitivy curve by plotting $\\varepsilon$ versus aggregate performance. Comment on the profile of the curve; explain the behavior at the extreme values. Do you believe that further improvements would be possible with a different evaluation? "
      ]
    },
    {
      "cell_type": "code",
      "source": [
        "#@title Exercise\n",
        "\n",
        "# YOUR CODE GOES HERE."
      ],
      "metadata": {
        "id": "T7V8kgU5VRBX"
      },
      "execution_count": null,
      "outputs": []
    },
    {
      "cell_type": "markdown",
      "metadata": {
        "id": "NzBuIebpSlfu"
      },
      "source": [
        " ## Exercise: Step-size sensitivity.\n",
        "The stepsize $\\alpha$ controls the size of the learning system's corrections. This can have a significant effect on the system's overall adaptibility: its rate of learning and its longterm stability. \n",
        "\n",
        "In this exercise we would like you to fix the exploration parameter to $\\varepsilon =0.1$ and repeat the previous sensitivity analysis for the step size. Using the step size in place of the exploration parameter, use the same aggregate performance metric to evaluate several different values of $\\alpha$. For example, make sure your evaluation range captures the extreme cases of $\\alpha=0$ and $\\alpha=1$, e.g. $\\alpha\\in\\{0,10^{-3}, 10^{-2}, 10^{-1}, 1\\}$. Which value of $\\alpha$ demonstrated the highest aggregate performance? \n"
      ]
    },
    {
      "cell_type": "code",
      "source": [
        "#@title Exercise\n",
        "\n",
        "# YOUR CODE GOES HERE."
      ],
      "metadata": {
        "cellView": "form",
        "id": "8sKhdU6DWvTe"
      },
      "execution_count": null,
      "outputs": []
    },
    {
      "cell_type": "markdown",
      "metadata": {
        "id": "Awy4bnFfSGf_"
      },
      "source": [
        "## Exercise: Stochastic transitions.\n",
        "The previous exercises took place in a deterministic environment. In reality, most environments are stochastic, and these are also some of the most interesting application domains of RL.\n",
        "\n",
        "Point out the differences from the previously studeied phenomena. This should have been observed in your results from the previous two exercises. Repeat the above analysis for the stochastic domain. How did the results change?\n",
        "\n",
        "Now that the domain is stochastic, it does not suffice to look at the performance of just a single trial. Run 30 trials with different seeds and plot the average performance as well as the standard error confidence intervals."
      ]
    },
    {
      "cell_type": "code",
      "source": [
        "#@title Exercise\n",
        "\n",
        "# YOUR CODE GOES HERE."
      ],
      "metadata": {
        "cellView": "form",
        "id": "uShYtuvMWxS3"
      },
      "execution_count": null,
      "outputs": []
    },
    {
      "cell_type": "markdown",
      "source": [
        "Use the code below to plot learning performance."
      ],
      "metadata": {
        "id": "RA0DyoUsW6ON"
      }
    },
    {
      "cell_type": "code",
      "metadata": {
        "id": "lY2YGEe6JbBm"
      },
      "source": [
        "def mean_confidence_interval(data):\n",
        "    import scipy as sp \n",
        "    \"\"\"Compute confidence interval from sample data.\"\"\"\n",
        "    num_samp = len(data)\n",
        "    mean = np.array(np.mean(data, axis=0))\n",
        "    se = sp.stats.sem(data, axis=0)\n",
        "    return mean, se"
      ],
      "execution_count": null,
      "outputs": []
    },
    {
      "cell_type": "code",
      "metadata": {
        "id": "u0nfng0GIwja"
      },
      "source": [
        "data = np.array(trial_steps)\n",
        "mean_steps, se = mean_confidence_interval(data)\n",
        "plt.errorbar(np.arange(len(mean_steps)), mean_steps, yerr=se)"
      ],
      "execution_count": null,
      "outputs": []
    },
    {
      "cell_type": "code",
      "metadata": {
        "id": "rpdNkFd-hG-w"
      },
      "source": [
        "fig, ax = plt.subplots(figsize=(10,5))\n",
        "ax.plot(np.arange(len(steps)), steps, label='Q-Learning')\n",
        "ax.hlines(y=8, xmin=0, xmax=len(steps), label='Shortest path')\n",
        "ax.set_xlabel('Episode')\n",
        "ax.set_ylabel('Steps to Goal')\n",
        "ax.legend()"
      ],
      "execution_count": null,
      "outputs": []
    },
    {
      "cell_type": "markdown",
      "source": [
        "# Part 4. Continuous control with PPO.\n",
        "\n",
        "This next part with guide you through a control problem using the PPO algorithm from the [Stable Baselines repository](https://github.com/hill-a/stable-baselines). \n",
        "\n",
        "The code is adapted from the [Stable Baselines tutorial](https://colab.research.google.com/github/Stable-Baselines-Team/rl-colab-notebooks/blob/master/stable_baselines_getting_started.ipynb)."
      ],
      "metadata": {
        "id": "ut1nYK60rcjG"
      }
    },
    {
      "cell_type": "markdown",
      "metadata": {
        "id": "-S-rFGcQmSlE"
      },
      "source": [
        "\n",
        "## Introduction\n",
        "\n",
        "In this notebook, you will learn how to create a RL model, train it and evaluate it.\n",
        "\n",
        "\n",
        "## Install Dependencies and Stable Baselines Using Pip\n",
        "\n",
        "List of full dependencies can be found in the [README](https://github.com/hill-a/stable-baselines).\n",
        "\n",
        "```\n",
        "sudo apt-get update && sudo apt-get install cmake libopenmpi-dev zlib1g-dev\n",
        "```\n",
        "\n",
        "\n",
        "```\n",
        "pip install stable-baselines[mpi]\n",
        "```"
      ]
    },
    {
      "cell_type": "code",
      "execution_count": null,
      "metadata": {
        "id": "gWskDE2c9WoN"
      },
      "outputs": [],
      "source": [
        "# Stable Baselines only supports tensorflow 1.x for now\n",
        "%tensorflow_version 1.x\n",
        "!apt-get install ffmpeg freeglut3-dev xvfb  # For visualization\n",
        "!pip install stable-baselines[mpi]==2.10.2\n",
        "from IPython.display import clear_output\n",
        "clear_output()"
      ]
    },
    {
      "cell_type": "code",
      "execution_count": null,
      "metadata": {
        "id": "U29X1-B-AIKE"
      },
      "outputs": [],
      "source": [
        "import stable_baselines\n",
        "stable_baselines.__version__"
      ]
    },
    {
      "cell_type": "markdown",
      "metadata": {
        "id": "gcX8hEcaUpR0"
      },
      "source": [
        "Stable-Baselines works on environments that follow the [gym interface](https://stable-baselines.readthedocs.io/en/master/guide/custom_env.html).\n",
        "You can find a list of available environments [here](https://gym.openai.com/envs/#classic_control).\n",
        "\n",
        "It is also recommended to check the [source code](https://github.com/openai/gym) to learn more about the observation and action space of each env, as gym does not have a proper documentation.\n",
        "Not all algorithms can work with all action spaces, you can find more in this [recap table](https://stable-baselines.readthedocs.io/en/master/guide/algos.html)."
      ]
    },
    {
      "cell_type": "markdown",
      "metadata": {
        "id": "FtY8FhliLsGm"
      },
      "source": [
        "## Imports"
      ]
    },
    {
      "cell_type": "code",
      "execution_count": null,
      "metadata": {
        "id": "BIedd7Pz9sOs"
      },
      "outputs": [],
      "source": [
        "import gym\n",
        "import numpy as np\n",
        "from stable_baselines import PPO2"
      ]
    },
    {
      "cell_type": "markdown",
      "metadata": {
        "id": "-0_8OQbOTTNT"
      },
      "source": [
        "You need to import the policy class that will be used to create the networks (for the policy/value functions).\n",
        "This step is optional as you can directly use strings in the constructor: \n",
        "\n",
        "```PPO2('MlpPolicy', env)``` instead of ```PPO2(MlpPolicy, env)```\n",
        "\n",
        "Note that some algorithms like `SAC` have their own `MlpPolicy` (different from `stable_baselines.common.policies.MlPolicy`), that's why using string for the policy is the recommened option."
      ]
    },
    {
      "cell_type": "code",
      "execution_count": null,
      "metadata": {
        "id": "ROUJr675TT01"
      },
      "outputs": [],
      "source": [
        "from stable_baselines.common.policies import MlpPolicy"
      ]
    },
    {
      "cell_type": "markdown",
      "metadata": {
        "id": "RapkYvTXL7Cd"
      },
      "source": [
        "## Create the Gym env and instantiate the agent\n",
        "\n",
        "For this example, we will use CartPole environment, a classic control problem.\n",
        "\n",
        "> A pole is attached by an un-actuated joint to a cart, which moves along a frictionless track. The system is controlled by applying a force of +1 or -1 to the cart. The pendulum starts upright, and the goal is to prevent it from falling over. A reward of +1 is provided for every timestep that the pole remains upright.\n",
        "\n",
        "Cartpole environment: [https://gym.openai.com/envs/CartPole-v1/](https://gym.openai.com/envs/CartPole-v1/)\n",
        "\n",
        "![Cartpole](https://cdn-images-1.medium.com/max/1143/1*h4WTQNVIsvMXJTCpXm_TAw.gif)\n",
        "\n",
        "Note: vectorized environments allow to easily multiprocess training. In this example, we are using only one process, hence the `DummyVecEnv`.\n",
        "\n",
        "We chose the `MlpPolicy` because input of `CartPole` is a feature vector, not images.\n",
        "\n",
        "The type of action to use (discrete/continuous) will be automatically deduced from the environment action space\n",
        "\n",
        "\n",
        "Here we are using the [Proximal Policy Optimization](https://stable-baselines.readthedocs.io/en/master/modules/ppo2.html) algorithm (PPO2 is the version optimized for GPU), which is an Actor-Critic method: it uses a value function to improve the policy gradient descent (by reducing the variance).\n",
        "\n",
        "It combines ideas from [A2C](https://stable-baselines.readthedocs.io/en/master/modules/a2c.html) (having multiple workers and using an entropy bonus for exploration) and [TRPO](https://stable-baselines.readthedocs.io/en/master/modules/trpo.html) (it uses a trust region to improve stability and avoid catastrophic drops in performance).\n",
        "\n",
        "PPO is an on-policy algorithm, which means that the trajectories used to update the networks must be collected using the latest policy.\n",
        "It is usually less sample efficient than off-policy alorithms like [DQN](https://stable-baselines.readthedocs.io/en/master/modules/dqn.html), [SAC](https://stable-baselines.readthedocs.io/en/master/modules/sac.html) or [TD3](https://stable-baselines.readthedocs.io/en/master/modules/td3.html), but is much faster regarding wall-clock time.\n"
      ]
    },
    {
      "cell_type": "markdown",
      "metadata": {
        "id": "ZWOAFJjumSlL"
      },
      "source": [
        "## Exercise: Sweeps of architecture size and step size.\n",
        "\n",
        "> `verbose=1` prints the output as the model learns\n",
        "\n",
        "> `learning_rate`: (float or callable) The step size, it can be a function. See\n",
        "https://github.com/hill-a/stable-baselines/blob/master/stable_baselines/ppo2/ppo2.py\n",
        "for further details.\n",
        "\n",
        "> `net_arch`: parameter allows to specify the amount and size of the hidden layers \n",
        "and how many of them are shared between the policy network and the value \n",
        "network. See \n",
        "https://github.com/hill-a/stable-baselines/blob/master/stable_baselines/common/policies.py\n",
        "for further details. \n",
        "\n",
        "**Adjust the step size and architecture** and observe the differences in learning performance."
      ]
    },
    {
      "cell_type": "code",
      "execution_count": null,
      "metadata": {
        "id": "pUWGZp3i9wyf"
      },
      "outputs": [],
      "source": [
        "env = gym.make('CartPole-v1')\n",
        "\n",
        "# vectorized environments allow to easily multiprocess training\n",
        "# we demonstrate its usefulness in the next examples\n",
        "# env = DummyVecEnv([lambda: env])\n",
        "\n",
        "# model = PPO2(MlpPolicy, env, verbose=0)\n",
        "model = PPO2(MlpPolicy, env, verbose=0, \n",
        "             learning_rate=2.5e-4,\n",
        "             policy_kwargs=dict(net_arch=[64, 64]))\n",
        "# clear_output()"
      ]
    },
    {
      "cell_type": "code",
      "execution_count": null,
      "metadata": {
        "id": "b20zH8BSvxnN"
      },
      "outputs": [],
      "source": [
        "print(env)"
      ]
    },
    {
      "cell_type": "markdown",
      "metadata": {
        "id": "4efFdrQ7MBvl"
      },
      "source": [
        "We create a helper function to evaluate the agent:"
      ]
    },
    {
      "cell_type": "code",
      "execution_count": null,
      "metadata": {
        "id": "63M8mSKR-6Zt"
      },
      "outputs": [],
      "source": [
        "def evaluate(model, num_episodes=100):\n",
        "    \"\"\"\n",
        "    Evaluate a RL agent\n",
        "    :param model: (BaseRLModel object) the RL Agent\n",
        "    :param num_episodes: (int) number of episodes to evaluate it\n",
        "    :return: (float) Mean reward for the last num_episodes\n",
        "    \"\"\"\n",
        "    # This function will only work for a single Environment\n",
        "    env = model.get_env()\n",
        "    all_episode_rewards = []\n",
        "    for i in range(num_episodes):\n",
        "        episode_rewards = []\n",
        "        done = False\n",
        "        obs = env.reset()\n",
        "        while not done:\n",
        "            # _states are only useful when using LSTM policies\n",
        "            action, _states = model.predict(obs)\n",
        "            # here, action, rewards and dones are arrays\n",
        "            # because we are using vectorized env\n",
        "            obs, reward, done, info = env.step(action)\n",
        "            episode_rewards.append(reward)\n",
        "\n",
        "        all_episode_rewards.append(sum(episode_rewards))\n",
        "\n",
        "    mean_episode_reward = np.mean(all_episode_rewards)\n",
        "    print(\"Mean reward:\", mean_episode_reward, \"Num episodes:\", num_episodes)\n",
        "\n",
        "    return mean_episode_reward"
      ]
    },
    {
      "cell_type": "markdown",
      "metadata": {
        "id": "6hkyafs--gJz"
      },
      "source": [
        "In fact, Stable-Baselines already provides you with that helper:"
      ]
    },
    {
      "cell_type": "code",
      "execution_count": null,
      "metadata": {
        "id": "s6ZNldIR-fce"
      },
      "outputs": [],
      "source": [
        "from stable_baselines.common.evaluation import evaluate_policy"
      ]
    },
    {
      "cell_type": "markdown",
      "metadata": {
        "id": "zjEVOIY8NVeK"
      },
      "source": [
        "Let's evaluate the un-trained agent, this should be a random agent."
      ]
    },
    {
      "cell_type": "code",
      "execution_count": null,
      "metadata": {
        "id": "xDHLMA6NFk95"
      },
      "outputs": [],
      "source": [
        "# Use a separate environment for evaluation\n",
        "eval_env = gym.make('CartPole-v1')\n",
        "\n",
        "# Random Agent, before training\n",
        "mean_reward, std_reward = evaluate_policy(model, eval_env, n_eval_episodes=100)\n",
        "\n",
        "print(f\"mean_reward:{mean_reward:.2f} +/- {std_reward:.2f}\")"
      ]
    },
    {
      "cell_type": "markdown",
      "metadata": {
        "id": "r5UoXTZPNdFE"
      },
      "source": [
        "## Train the agent and evaluate it"
      ]
    },
    {
      "cell_type": "code",
      "execution_count": null,
      "metadata": {
        "id": "e4cfSXIB-pTF"
      },
      "outputs": [],
      "source": [
        "# Train the agent for 10000 steps\n",
        "model.learn(total_timesteps=10000)"
      ]
    },
    {
      "cell_type": "code",
      "execution_count": null,
      "metadata": {
        "id": "ygl_gVmV_QP7"
      },
      "outputs": [],
      "source": [
        "# Evaluate the trained agent\n",
        "mean_reward, std_reward = evaluate_policy(model, eval_env, n_eval_episodes=100)\n",
        "\n",
        "print(f\"mean_reward:{mean_reward:.2f} +/- {std_reward:.2f}\")"
      ]
    },
    {
      "cell_type": "markdown",
      "metadata": {
        "id": "QuvQYCOMmSlQ"
      },
      "source": [
        "The `mean_reward` above is quite low for this task. Your challenge in this exercise is:"
      ]
    },
    {
      "cell_type": "markdown",
      "metadata": {
        "id": "A00W6yY3NkHG"
      },
      "source": [
        "## Exercise: Try and adjust the parameters above to get the highest possible mean reward.\n",
        "* What parameter combinations worked well?\n",
        "* What does the performance do as you keep changing a parameter in one direction? For example, try running with:\n",
        "`learning_rate: 1e-6, 1e-5, 1e-4, 3e-4, 1e-3, 3e-3, 1e-2, 3e-2, 1e-1`.\n",
        "* Try changing the `arch` to be more/less powerful. How does this impact performance? Does it saturate? You can try using the colab magic `%%timeit` to see the impact on training speed."
      ]
    },
    {
      "cell_type": "markdown",
      "metadata": {
        "id": "vUpOhTaImSlR"
      },
      "source": [
        "## `STOP HERE` \n",
        "If, after the session, you want to try and visualise the models, you can try and run the code below."
      ]
    },
    {
      "cell_type": "markdown",
      "metadata": {
        "id": "xVm9QPNVwKXN"
      },
      "source": [
        "## Prepare video recording\n",
        "\n",
        "**Note:** This will _NOT_ work on a Google Colaboratory. If you run this locally, you can try and get this working. "
      ]
    },
    {
      "cell_type": "code",
      "execution_count": null,
      "metadata": {
        "id": "MPyfQxD5z26J"
      },
      "outputs": [],
      "source": [
        "# Set up fake display; otherwise rendering will fail\n",
        "import os\n",
        "os.system(\"Xvfb :1 -screen 0 1024x768x24 &\")\n",
        "os.environ['DISPLAY'] = ':1'"
      ]
    },
    {
      "cell_type": "code",
      "execution_count": null,
      "metadata": {
        "id": "SLzXxO8VMD6N"
      },
      "outputs": [],
      "source": [
        "import base64\n",
        "from pathlib import Path\n",
        "\n",
        "from IPython import display as ipythondisplay\n",
        "\n",
        "def show_videos(video_path='', prefix=''):\n",
        "  \"\"\"\n",
        "  Taken from https://github.com/eleurent/highway-env\n",
        "\n",
        "  :param video_path: (str) Path to the folder containing videos\n",
        "  :param prefix: (str) Filter the video, showing only the only starting with this prefix\n",
        "  \"\"\"\n",
        "  html = []\n",
        "  for mp4 in Path(video_path).glob(\"{}*.mp4\".format(prefix)):\n",
        "      video_b64 = base64.b64encode(mp4.read_bytes())\n",
        "      html.append('''<video alt=\"{}\" autoplay \n",
        "                    loop controls style=\"height: 400px;\">\n",
        "                    <source src=\"data:video/mp4;base64,{}\" type=\"video/mp4\" />\n",
        "                </video>'''.format(mp4, video_b64.decode('ascii')))\n",
        "  ipythondisplay.display(ipythondisplay.HTML(data=\"<br>\".join(html)))"
      ]
    },
    {
      "cell_type": "markdown",
      "metadata": {
        "id": "LTRNUfulOGaF"
      },
      "source": [
        "We will record a video using the [VecVideoRecorder](https://stable-baselines.readthedocs.io/en/master/guide/vec_envs.html#vecvideorecorder) wrapper."
      ]
    },
    {
      "cell_type": "code",
      "execution_count": null,
      "metadata": {
        "id": "Trag9dQpOIhx"
      },
      "outputs": [],
      "source": [
        "from stable_baselines.common.vec_env import VecVideoRecorder, DummyVecEnv\n",
        "\n",
        "def record_video(env_id, model, video_length=500, prefix='', video_folder='videos/'):\n",
        "  \"\"\"\n",
        "  :param env_id: (str)\n",
        "  :param model: (RL model)\n",
        "  :param video_length: (int)\n",
        "  :param prefix: (str)\n",
        "  :param video_folder: (str)\n",
        "  \"\"\"\n",
        "  eval_env = DummyVecEnv([lambda: gym.make('CartPole-v1')])\n",
        "  # Start the video at step=0 and record 500 steps\n",
        "  eval_env = VecVideoRecorder(eval_env, video_folder=video_folder,\n",
        "                              record_video_trigger=lambda step: step == 0, video_length=video_length,\n",
        "                              name_prefix=prefix)\n",
        "\n",
        "  obs = eval_env.reset()\n",
        "  for _ in range(video_length):\n",
        "    action, _ = model.predict(obs)\n",
        "    obs, _, _, _ = eval_env.step(action)\n",
        "\n",
        "  # Close the video recorder\n",
        "  eval_env.close()"
      ]
    },
    {
      "cell_type": "markdown",
      "metadata": {
        "id": "KOObbeu5MMlR"
      },
      "source": [
        "### Visualize trained agent\n",
        "\n"
      ]
    },
    {
      "cell_type": "code",
      "execution_count": null,
      "metadata": {
        "id": "iATu7AiyMQW2"
      },
      "outputs": [],
      "source": [
        "record_video('CartPole-v1', model, video_length=500, prefix='ppo2-cartpole')"
      ]
    },
    {
      "cell_type": "code",
      "execution_count": null,
      "metadata": {
        "id": "-n4i-fW3NojZ"
      },
      "outputs": [],
      "source": [
        "show_videos('videos', prefix='ppo2')"
      ]
    },
    {
      "cell_type": "markdown",
      "metadata": {
        "id": "8wR_X8o3HbNB"
      },
      "source": [
        "# Want to learn more?\n",
        "\n",
        "Many of these references were originally compiled by Feryal Behbahani and Gheorghe Comanici [[here](https://colab.research.google.com/github/eemlcommunity/PracticalSessions2020/blob/master/rl/EEML2020_RL_Tutorial.ipynb#scrollTo=XWqlIWbwN7Mk)].\n",
        "\n",
        "Books and lecture notes\n",
        "*   [Reinforcement Learning: an Introduction by Sutton & Barto](http://incompleteideas.net/book/RLbook2018.pdf)\n",
        "* [Algorithms for Reinforcement Learning by Csaba Szepesvari](https://sites.ualberta.ca/~szepesva/papers/RLAlgsInMDPs.pdf)\n",
        "\n",
        "Lectures and course \n",
        "*   [Reinforcement learning course at UCL by David Silver](https://www.youtube.com/playlist?list=PLzuuYNsE1EZAXYR4FJ75jcJseBmo4KQ9-)\n",
        "*   [Reinforcement learning course by UCL & DeepMind](https://www.youtube.com/playlist?list=PLqYmG7hTraZBKeNJ-JE_eyJHZ7XgBoAyb)\n",
        "*   [Reinforcement learning course at Stanford by Emma Brunskill](https://www.youtube.com/playlist?list=PLoROMvodv4rOSOPzutgyCTapiGlY2Nd8u)\n",
        "*   [Reinforcement learning course on U Alberta Coursera by Martha White & Adam White](https://www.coursera.org/specializations/reinforcement-learning)\n",
        "*   [Reinforcement learning lecture at NPTEL by Balaraman Ravindran](https://youtu.be/YaPSPu7K9S0)\n",
        "\n",
        "More practical:\n",
        "* [Spinning Up in Deep RL by Josh Achiam](https://spinningup.openai.com/en/latest/)\n",
        "* [An interactive tutorial on TD learning by Andrej Karpathy](https://cs.stanford.edu/people/karpathy/reinforcejs/gridworld_td.html)\n",
        "\n",
        "\n"
      ]
    }
  ]
}